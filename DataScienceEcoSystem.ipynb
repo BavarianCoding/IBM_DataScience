{
 "cells": [
  {
   "cell_type": "markdown",
   "id": "5880972f",
   "metadata": {},
   "source": [
    "# Data Science Tools and Ecosystem"
   ]
  },
  {
   "cell_type": "markdown",
   "id": "6b21a786",
   "metadata": {},
   "source": [
    "In this notebook, Data Science Tools and Ecosystem are summarized."
   ]
  },
  {
   "cell_type": "markdown",
   "id": "936c605b",
   "metadata": {},
   "source": [
    "Some of the commonly used libraries used by Data Scientists include:\n",
    "    \n",
    "    1. plotly\n",
    "    2. ggplot2\n",
    "    3. NumPy\n",
    "    \n"
   ]
  },
  {
   "cell_type": "markdown",
   "id": "eeac919b",
   "metadata": {},
   "source": [
    "| Data Science Tools |\n",
    "| -------------|\n",
    "| RStudio | \n",
    "| Jupyter Notebook |\n",
    "| Github |"
   ]
  },
  {
   "cell_type": "markdown",
   "id": "4c290073",
   "metadata": {},
   "source": [
    "Below are a few examples of evaluation arithmetic expressions in Python."
   ]
  },
  {
   "cell_type": "code",
   "execution_count": 7,
   "id": "26a69657",
   "metadata": {},
   "outputs": [
    {
     "data": {
      "text/plain": [
       "6"
      ]
     },
     "execution_count": 7,
     "metadata": {},
     "output_type": "execute_result"
    }
   ],
   "source": [
    "3+3"
   ]
  },
  {
   "cell_type": "code",
   "execution_count": 9,
   "id": "861be603",
   "metadata": {},
   "outputs": [
    {
     "name": "stdout",
     "output_type": "stream",
     "text": [
      "7\n"
     ]
    }
   ],
   "source": [
    "a = 4\n",
    "b = 3\n",
    "c = a + b\n",
    "print(c)"
   ]
  },
  {
   "cell_type": "code",
   "execution_count": 10,
   "id": "8408beb1",
   "metadata": {},
   "outputs": [
    {
     "data": {
      "text/plain": [
       "17"
      ]
     },
     "execution_count": 10,
     "metadata": {},
     "output_type": "execute_result"
    }
   ],
   "source": [
    "# This is a simple arithmetic expression to mulitply then add integers.\n",
    "(3*4)+5"
   ]
  },
  {
   "cell_type": "code",
   "execution_count": 13,
   "id": "0db7db57",
   "metadata": {},
   "outputs": [
    {
     "name": "stdout",
     "output_type": "stream",
     "text": [
      "3.3333333333333335\n"
     ]
    }
   ],
   "source": [
    "# This will convert 200 minutes to hours by diving by 60\n",
    "time_min = 200\n",
    "time_h = time_min / 60\n",
    "print(time_h)"
   ]
  },
  {
   "cell_type": "markdown",
   "id": "903e899a",
   "metadata": {},
   "source": [
    "__Objectives:__\n",
    "- List popular languages for Data Science\n",
    "- Provide jupyter examples\n",
    "- List data science libraries"
   ]
  },
  {
   "cell_type": "markdown",
   "id": "61b6b603",
   "metadata": {},
   "source": [
    "## Author\n",
    "Jojo"
   ]
  }
 ],
 "metadata": {
  "kernelspec": {
   "display_name": "Python 3 (ipykernel)",
   "language": "python",
   "name": "python3"
  },
  "language_info": {
   "codemirror_mode": {
    "name": "ipython",
    "version": 3
   },
   "file_extension": ".py",
   "mimetype": "text/x-python",
   "name": "python",
   "nbconvert_exporter": "python",
   "pygments_lexer": "ipython3",
   "version": "3.11.5"
  }
 },
 "nbformat": 4,
 "nbformat_minor": 5
}
